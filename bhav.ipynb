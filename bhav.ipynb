{
  "nbformat": 4,
  "nbformat_minor": 0,
  "metadata": {
    "colab": {
      "name": "bhav.ipynb",
      "provenance": [],
      "authorship_tag": "ABX9TyOdJ3cFVTCyo0sJNqjDo2w1",
      "include_colab_link": true
    },
    "kernelspec": {
      "name": "python3",
      "display_name": "Python 3"
    },
    "language_info": {
      "name": "python"
    }
  },
  "cells": [
    {
      "cell_type": "markdown",
      "metadata": {
        "id": "view-in-github",
        "colab_type": "text"
      },
      "source": [
        "<a href=\"https://colab.research.google.com/github/bhavyashivalingegowda/assignments_day2/blob/main/bhav.ipynb\" target=\"_parent\"><img src=\"https://colab.research.google.com/assets/colab-badge.svg\" alt=\"Open In Colab\"/></a>"
      ]
    },
    {
      "cell_type": "code",
      "metadata": {
        "id": "WXndwkMoJfIH",
        "colab": {
          "base_uri": "https://localhost:8080/"
        },
        "outputId": "230cff1c-0796-45ca-8c59-95826adbf966"
      },
      "source": [
        "#assignment2 \n",
        "#removing all occurance from the list\n",
        "li=[int(i) for i in input('enter numbers:').split()]\n",
        "print(*li)\n",
        "def remove_duplicates(duplist):\n",
        "  newli = []\n",
        "  for ele in duplist:\n",
        "    if ele not in newli:\n",
        "      newli.append(ele)\n",
        "  return newli\n",
        "print (remove_duplicates(li))\n"
      ],
      "execution_count": 3,
      "outputs": [
        {
          "output_type": "stream",
          "text": [
            "enter numbers:12 56 78 12 98 34\n",
            "12 56 78 12 98 34\n",
            "[12, 56, 78, 98, 34]\n"
          ],
          "name": "stdout"
        }
      ]
    },
    {
      "cell_type": "code",
      "metadata": {
        "colab": {
          "base_uri": "https://localhost:8080/"
        },
        "id": "-tEPVZupZB7q",
        "outputId": "7f131d16-1563-415a-9769-2003b1a71b15"
      },
      "source": [
        "#assignment 3\n",
        "#check if the string is pangram\n",
        "import string\n",
        "def ispangram(str):\n",
        "    a=\"abcdefghijklmnopqrstuvwxyz\"\n",
        "    for char in a:\n",
        "        if char not in str.lower():\n",
        "            return False\n",
        "    return True\n",
        "string=input('enter the pangram')\n",
        "if(ispangram(string)==True):\n",
        "    print(\"yes it is a pangram\")\n",
        "else:\n",
        "    print(\"no it is not a pangram\")"
      ],
      "execution_count": 5,
      "outputs": [
        {
          "output_type": "stream",
          "text": [
            "enter the pangramabcdefghijklmnopqrstuvwxy\n",
            "no it is not a pangram\n"
          ],
          "name": "stdout"
        }
      ]
    },
    {
      "cell_type": "code",
      "metadata": {
        "colab": {
          "base_uri": "https://localhost:8080/"
        },
        "id": "XmJF699jaYai",
        "outputId": "4bc1b15b-2df8-4f7e-887d-2c4f278feee3"
      },
      "source": [
        "#project on otp generator\n",
        "import string \n",
        "import random as r\n",
        "length=6\n",
        "otp=' '\n",
        "print(\"The otp is:\")\n",
        "a=string.digits\n",
        "for i in range(length):\n",
        "  otp=otp+r.choice(a)\n",
        "print(\"OTP:\",otp)"
      ],
      "execution_count": 7,
      "outputs": [
        {
          "output_type": "stream",
          "text": [
            "The otp is:\n",
            "OTP:  519243\n"
          ],
          "name": "stdout"
        }
      ]
    }
  ]
}